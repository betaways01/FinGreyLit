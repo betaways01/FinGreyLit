{
 "cells": [
  {
   "cell_type": "markdown",
   "id": "be8ab8bb",
   "metadata": {},
   "source": [
    "# Download PDFs\n",
    "\n",
    "This notebook will download all the PDF files and store them under `pdfs/` so that subsequent processing steps can make use of their content."
   ]
  },
  {
   "cell_type": "code",
   "execution_count": null,
   "id": "9a012657",
   "metadata": {},
   "outputs": [],
   "source": [
    "import os.path\n",
    "import glob\n",
    "import json\n",
    "\n",
    "import requests\n",
    "\n",
    "metadata_files = glob.glob(\"../metadata/*.jsonl\")\n",
    "\n",
    "def id_to_fn(identifier):\n",
    "    \"\"\"convert a URI identifier to a simpler string we can use as a filename for the PDF\"\"\"\n",
    "    return '../pdfs/' + identifier.replace('https://', '').replace('/','_') + \".pdf\"\n",
    "\n",
    "def download(file_url, identifier):\n",
    "    \"\"\"download a PDF file, with the given identifier, from the given URL (unless this was done already)\n",
    "    and return a path to the PDF file\"\"\"\n",
    "    path = id_to_fn(identifier)\n",
    "    if os.path.exists(path) and os.path.getsize(path) > 0:\n",
    "        return path\n",
    "\n",
    "    response = requests.get(file_url)\n",
    "    with open(path, \"wb\") as f:\n",
    "        f.write(response.content)\n",
    "        print(f\"wrote {file_url} as {path}\")\n",
    "    return path\n",
    "\n",
    "for mdfile in sorted(metadata_files):\n",
    "    print(f\"downloading PDFs in {mdfile}\")\n",
    "    with open(mdfile) as infile:\n",
    "        for line in infile:\n",
    "            rec = json.loads(line)\n",
    "            pdf_path = download(rec[\"url\"], rec[\"id\"])\n",
    "            print(pdf_path)"
   ]
  },
  {
   "cell_type": "code",
   "execution_count": null,
   "id": "3183a6a2",
   "metadata": {},
   "outputs": [],
   "source": []
  }
 ],
 "metadata": {
  "kernelspec": {
   "display_name": "base",
   "language": "python",
   "name": "python3"
  },
  "language_info": {
   "codemirror_mode": {
    "name": "ipython",
    "version": 3
   },
   "file_extension": ".py",
   "mimetype": "text/x-python",
   "name": "python",
   "nbconvert_exporter": "python",
   "pygments_lexer": "ipython3",
   "version": "3.12.4"
  }
 },
 "nbformat": 4,
 "nbformat_minor": 5
}
