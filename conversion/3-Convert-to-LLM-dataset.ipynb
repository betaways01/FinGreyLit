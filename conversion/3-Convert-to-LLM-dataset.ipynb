{
 "cells": [
  {
   "cell_type": "markdown",
   "id": "f01bae98",
   "metadata": {},
   "source": [
    "# Convert metadata and PDFs to LLM dataset\n",
    "\n",
    "This notebook will process the already downloaded PDF files and convert them to a data set suitable for fine-tuning and evaluating LLMs.\n",
    "\n",
    "A new field \"content\" will be added to each record. The field contains an object that in turn contains the fields \"pdfinfo\" and \"pages\", that contain the metadata and text extracted from the PDF file."
   ]
  },
  {
   "cell_type": "code",
   "execution_count": 5,
   "id": "7189eabf",
   "metadata": {},
   "outputs": [
    {
     "name": "stdout",
     "output_type": "stream",
     "text": [
      "converting ../metadata\\article-en-test.jsonl to ../llm-dataset\\article-en-test.jsonl\n",
      "converting ../metadata\\article-en-train.jsonl to ../llm-dataset\\article-en-train.jsonl\n",
      "converting ../metadata\\article-fi-test.jsonl to ../llm-dataset\\article-fi-test.jsonl\n",
      "converting ../metadata\\article-fi-train.jsonl to ../llm-dataset\\article-fi-train.jsonl\n",
      "converting ../metadata\\article-sv-test.jsonl to ../llm-dataset\\article-sv-test.jsonl\n",
      "converting ../metadata\\article-sv-train.jsonl to ../llm-dataset\\article-sv-train.jsonl\n",
      "converting ../metadata\\book-en-test.jsonl to ../llm-dataset\\book-en-test.jsonl\n",
      "converting ../metadata\\book-en-train.jsonl to ../llm-dataset\\book-en-train.jsonl\n"
     ]
    },
    {
     "ename": "FileDataError",
     "evalue": "Failed to open file '../pdfs/www.theseus.fi_handle_10024_745027.pdf'.",
     "output_type": "error",
     "traceback": [
      "\u001b[1;31m---------------------------------------------------------------------------\u001b[0m",
      "\u001b[1;31mFzErrorFormat\u001b[0m                             Traceback (most recent call last)",
      "\u001b[1;32mc:\\ProgramData\\anaconda3\\Lib\\site-packages\\pymupdf\\__init__.py\u001b[0m in \u001b[0;36m?\u001b[1;34m(self, filename, stream, filetype, rect, width, height, fontsize)\u001b[0m\n\u001b[0;32m   3066\u001b[0m                     \u001b[0mself\u001b[0m\u001b[1;33m.\u001b[0m\u001b[0mpage_count2\u001b[0m \u001b[1;33m=\u001b[0m \u001b[0mextra\u001b[0m\u001b[1;33m.\u001b[0m\u001b[0mpage_count_fz\u001b[0m\u001b[1;33m\u001b[0m\u001b[1;33m\u001b[0m\u001b[0m\n\u001b[0;32m   3067\u001b[0m         \u001b[1;32mfinally\u001b[0m\u001b[1;33m:\u001b[0m\u001b[1;33m\u001b[0m\u001b[1;33m\u001b[0m\u001b[0m\n\u001b[1;32m-> 3068\u001b[1;33m             \u001b[0mJM_mupdf_show_errors\u001b[0m \u001b[1;33m=\u001b[0m \u001b[0mJM_mupdf_show_errors_old\u001b[0m\u001b[1;33m\u001b[0m\u001b[1;33m\u001b[0m\u001b[0m\n\u001b[0m",
      "\u001b[1;32mc:\\ProgramData\\anaconda3\\Lib\\site-packages\\pymupdf\\mupdf.py\u001b[0m in \u001b[0;36m?\u001b[1;34m(filename)\u001b[0m\n\u001b[0;32m  45160\u001b[0m         \u001b[0mfilename\u001b[0m\u001b[1;33m:\u001b[0m \u001b[0ma\u001b[0m \u001b[0mpath\u001b[0m \u001b[0mto\u001b[0m \u001b[0ma\u001b[0m \u001b[0mfile\u001b[0m \u001b[1;32mas\u001b[0m \u001b[0mit\u001b[0m \u001b[0mwould\u001b[0m \u001b[0mbe\u001b[0m \u001b[0mgiven\u001b[0m \u001b[0mto\u001b[0m \u001b[0mopen\u001b[0m\u001b[1;33m(\u001b[0m\u001b[1;36m2\u001b[0m\u001b[1;33m)\u001b[0m\u001b[1;33m.\u001b[0m\u001b[1;33m\u001b[0m\u001b[1;33m\u001b[0m\u001b[0m\n\u001b[0;32m  45161\u001b[0m     \"\"\"\n\u001b[1;32m> 45162\u001b[1;33m     \u001b[1;32mreturn\u001b[0m \u001b[0m_mupdf\u001b[0m\u001b[1;33m.\u001b[0m\u001b[0mfz_open_document\u001b[0m\u001b[1;33m(\u001b[0m\u001b[0mfilename\u001b[0m\u001b[1;33m)\u001b[0m\u001b[1;33m\u001b[0m\u001b[1;33m\u001b[0m\u001b[0m\n\u001b[0m",
      "\u001b[1;31mFzErrorFormat\u001b[0m: code=7: no objects found",
      "\nThe above exception was the direct cause of the following exception:\n",
      "\u001b[1;31mFileDataError\u001b[0m                             Traceback (most recent call last)",
      "\u001b[1;32m<timed exec>\u001b[0m in \u001b[0;36m?\u001b[1;34m()\u001b[0m\n",
      "\u001b[1;32m<timed exec>\u001b[0m in \u001b[0;36m?\u001b[1;34m(fn)\u001b[0m\n",
      "\u001b[1;32mc:\\ProgramData\\anaconda3\\Lib\\site-packages\\pymupdf\\__init__.py\u001b[0m in \u001b[0;36m?\u001b[1;34m(self, filename, stream, filetype, rect, width, height, fontsize)\u001b[0m\n\u001b[0;32m   3064\u001b[0m                     \u001b[0mself\u001b[0m\u001b[1;33m.\u001b[0m\u001b[0mpage_count2\u001b[0m \u001b[1;33m=\u001b[0m \u001b[0mextra\u001b[0m\u001b[1;33m.\u001b[0m\u001b[0mpage_count_pdf\u001b[0m\u001b[1;33m\u001b[0m\u001b[1;33m\u001b[0m\u001b[0m\n\u001b[0;32m   3065\u001b[0m                 \u001b[1;32melse\u001b[0m\u001b[1;33m:\u001b[0m\u001b[1;33m\u001b[0m\u001b[1;33m\u001b[0m\u001b[0m\n\u001b[0;32m   3066\u001b[0m                     \u001b[0mself\u001b[0m\u001b[1;33m.\u001b[0m\u001b[0mpage_count2\u001b[0m \u001b[1;33m=\u001b[0m \u001b[0mextra\u001b[0m\u001b[1;33m.\u001b[0m\u001b[0mpage_count_fz\u001b[0m\u001b[1;33m\u001b[0m\u001b[1;33m\u001b[0m\u001b[0m\n\u001b[0;32m   3067\u001b[0m         \u001b[1;32mfinally\u001b[0m\u001b[1;33m:\u001b[0m\u001b[1;33m\u001b[0m\u001b[1;33m\u001b[0m\u001b[0m\n\u001b[1;32m-> 3068\u001b[1;33m             \u001b[0mJM_mupdf_show_errors\u001b[0m \u001b[1;33m=\u001b[0m \u001b[0mJM_mupdf_show_errors_old\u001b[0m\u001b[1;33m\u001b[0m\u001b[1;33m\u001b[0m\u001b[0m\n\u001b[0m",
      "\u001b[1;31mFileDataError\u001b[0m: Failed to open file '../pdfs/www.theseus.fi_handle_10024_745027.pdf'."
     ]
    }
   ],
   "source": [
    "%%time\n",
    "\n",
    "import os.path\n",
    "import glob\n",
    "import json\n",
    "import re\n",
    "\n",
    "import fitz\n",
    "import regex  # has better Unicode support than standard library re module\n",
    "\n",
    "PAGES = [0, 1, 2, 3, 4, 5, 6, 7, -1]  # pages to analyze: first 8 pages + last page\n",
    "THRESHOLD = 100                       # paragraphs shorter than this will always be kept\n",
    "LONG_PARAGRAPH_PAGES = [0, 1]         # on first two pages, some long paragraphs are accepted\n",
    "LONG_PARAGRAPH_MAX = 2                # how many long paragraphs to keep on the first two pages\n",
    "\n",
    "PDF_METADATA_SKIP = {'format', 'creator', 'producer'}  # PDF metadata fields not to include in extracted text\n",
    "\n",
    "metadata_files = glob.glob(\"../metadata/*.jsonl\")\n",
    "\n",
    "def id_to_fn(identifier):\n",
    "    \"\"\"convert a URI identifier to a simpler string we can use as a filename for the PDF\"\"\"\n",
    "    return '../pdfs/' + identifier.replace('https://', '').replace('/','_') + \".pdf\"\n",
    "\n",
    "def extract_content(fn):\n",
    "    \"\"\"extract and return the pdfinfo metadata and the first few pages of text (and last page) from the given PDF file\"\"\"\n",
    "\n",
    "    pdfinfo = {}\n",
    "    pages = []\n",
    "    \n",
    "    with fitz.open(fn) as pdf:\n",
    "\n",
    "        for key in pdf.metadata.keys():\n",
    "            if key not in PDF_METADATA_SKIP and pdf.metadata.get(key):\n",
    "                pdfinfo[key] = pdf.metadata.get(key)\n",
    "\n",
    "        for page in PAGES:\n",
    "            if page > len(pdf) - 2:\n",
    "                continue\n",
    "\n",
    "            texts = []\n",
    "            text = pdf[page].get_text(sort=True)\n",
    "            # Use regular expression to split text into paragraphs\n",
    "            # Delimiter: newline(s) followed by an upper case character\n",
    "            paragraphs = regex.split(r'\\n+(?=\\p{Lu})', text, flags=re.UNICODE)\n",
    "            long_paragraph_count = 0\n",
    "\n",
    "            for paragraph in paragraphs:\n",
    "                paragraph = \" \".join(paragraph.strip().split())\n",
    "\n",
    "                if '.....' in paragraph or '. . . . .' in paragraph: # looks like a ToC entry, skip it\n",
    "                    continue\n",
    "                elif len(paragraph) < THRESHOLD:  # short paragraph, keep it\n",
    "                    texts.append(paragraph)\n",
    "                elif page in LONG_PARAGRAPH_PAGES and long_paragraph_count < LONG_PARAGRAPH_MAX:\n",
    "                    # allow some long paragraphs on the first two pages\n",
    "                    long_paragraph_count += 1\n",
    "                    texts.append(paragraph)\n",
    "                else:  # must be a long paragraph, skip it\n",
    "                    pass\n",
    "            text = '\\n'.join(texts)\n",
    "            if text:\n",
    "                pages.append({\"page\": pdf[page].number + 1, \"text\": text})\n",
    "    return {\"pdfinfo\": pdfinfo, \"pages\": pages}\n",
    "\n",
    "\n",
    "for mdfile in sorted(metadata_files):\n",
    "    out_path = mdfile.replace('metadata', 'llm-dataset')\n",
    "    print(f\"converting {mdfile} to {out_path}\")\n",
    "    with open(mdfile) as infile, open(out_path, \"w\") as outfile:\n",
    "        for line in infile:\n",
    "            rec = json.loads(line)\n",
    "            pdf_path = id_to_fn(rec[\"id\"])\n",
    "            content = extract_content(pdf_path)\n",
    "            outrec = {\"id\": rec[\"id\"], \"url\": rec[\"url\"], \"content\": content, \"ground_truth\": rec[\"ground_truth\"]}\n",
    "            json.dump(outrec, outfile)\n",
    "            outfile.write(\"\\n\")"
   ]
  }
 ],
 "metadata": {
  "kernelspec": {
   "display_name": "base",
   "language": "python",
   "name": "python3"
  },
  "language_info": {
   "codemirror_mode": {
    "name": "ipython",
    "version": 3
   },
   "file_extension": ".py",
   "mimetype": "text/x-python",
   "name": "python",
   "nbconvert_exporter": "python",
   "pygments_lexer": "ipython3",
   "version": "3.12.4"
  }
 },
 "nbformat": 4,
 "nbformat_minor": 5
}
